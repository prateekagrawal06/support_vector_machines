{
 "cells": [
  {
   "cell_type": "code",
   "execution_count": null,
   "metadata": {
    "collapsed": false
   },
   "outputs": [],
   "source": [
    "############ all the libraried required in the code##################\n",
    "\n",
    "import random\n",
    "import numpy as np\n",
    "import matplotlib.pyplot as plt\n",
    "%matplotlib inline\n",
    "import cvxopt\n",
    "from cvxopt import solvers,matrix\n",
    "import math\n",
    "from sklearn.cross_validation import KFold\n",
    "from math import exp,sqrt\n",
    "import urllib2\n",
    "import pickle\n",
    "#from sklearn.preprocessing import normalize"
   ]
  },
  {
   "cell_type": "code",
   "execution_count": null,
   "metadata": {
    "collapsed": false
   },
   "outputs": [],
   "source": [
    "###########################plotting the data #####################\n",
    "def plot_data(X,Y):\n",
    "    x =[]\n",
    "    y =[]\n",
    "    for i in range(X.shape[0]):\n",
    "        x.append(X[i][0])\n",
    "        y.append(X[i][1])\n",
    "    plt.plot(x,y,'ro')              \n",
    "    plt.xlabel(\"x\")\n",
    "    plt.ylabel(\"y\")\n",
    "    plt.title(\"Plot\")\n",
    "    plt.show()"
   ]
  },
  {
   "cell_type": "code",
   "execution_count": null,
   "metadata": {
    "collapsed": false
   },
   "outputs": [],
   "source": [
    "################# plotting the support vectors##################\n",
    "\n",
    "def plotting_SVs(X,Y,index):\n",
    "    x =[]\n",
    "    y =[]\n",
    "    x_sv=[]\n",
    "    y_sv=[]\n",
    "    for i in range(X.shape[0]):\n",
    "        if i in index:\n",
    "            #print \"SV\"\n",
    "            x_sv.append(X[i][0])\n",
    "            y_sv.append(X[i][1])\n",
    "            continue\n",
    "        else:\n",
    "            #print \"Non SV\"\n",
    "            x.append(X[i][0])\n",
    "            y.append(X[i][1])\n",
    "\n",
    "    plt.plot(x,y,'ro',x_sv,y_sv,'bo')              \n",
    "    plt.xlabel(\"x\")\n",
    "    plt.ylabel(\"y\")\n",
    "    plt.title(\"Plot\")\n",
    "    plt.show()"
   ]
  },
  {
   "cell_type": "code",
   "execution_count": null,
   "metadata": {
    "collapsed": true
   },
   "outputs": [],
   "source": [
    "def norm(Z):\n",
    "    mean = np.sum(Z,axis=0)/len(Z)\n",
    "    var = []\n",
    "    for i in range(Z.shape[1]):\n",
    "        sum1 = 0\n",
    "        for j in range(Z.shape[0]):\n",
    "            sum1 += (Z[j,i] - mean[i])**2\n",
    "        var.append(1. *sum1/len(Z))\n",
    "\n",
    "    for i in range(Z.shape[1]):\n",
    "        for j in range(Z.shape[0]):\n",
    "            Z[j,i] = (Z[j,i] - mean[i])/sqrt(var[i])\n",
    "    \n",
    "    \n",
    "    \n",
    "            \n",
    "    return Z"
   ]
  },
  {
   "cell_type": "code",
   "execution_count": null,
   "metadata": {
    "collapsed": false
   },
   "outputs": [],
   "source": [
    "############# prediction used for linear SVM #################\n",
    "\n",
    "\n",
    "def prediction_linear(X,W,W0):\n",
    "    Y_hat = []\n",
    "    for x in X:\n",
    "        if (np.dot(np.transpose(W),x) + W0) > 0:\n",
    "            Y_hat.append(1)\n",
    "        else:\n",
    "            Y_hat.append(-1)\n",
    "    return np.array(Y_hat)"
   ]
  },
  {
   "cell_type": "code",
   "execution_count": null,
   "metadata": {
    "collapsed": true
   },
   "outputs": [],
   "source": [
    "############### prediction used for guassian SVM ##########################\n",
    "\n",
    "def prediction_gaussian(X,X_SV,Y_SV,W0,alpha_SV):\n",
    "    \n",
    "    Y_hat = []\n",
    "    \n",
    "    for x in X:\n",
    "        \n",
    "        sum1 = 0\n",
    "        \n",
    "        for i in range(len(alpha_SV)):\n",
    "            \n",
    "            sum1 += alpha_SV[i]*Y_SV[i]*gaussian_similarity(X_SV[i],x)\n",
    "        \n",
    "        if sum1 + W0 > 0:\n",
    "            \n",
    "            \n",
    "            Y_hat.append(1)\n",
    "        \n",
    "        else:\n",
    "            \n",
    "            Y_hat.append(-1)\n",
    "            \n",
    "    return np.array(Y_hat)   "
   ]
  },
  {
   "cell_type": "code",
   "execution_count": null,
   "metadata": {
    "collapsed": true
   },
   "outputs": [],
   "source": [
    "\n",
    "#################### prediction for ploynomail SVM ##########################\n",
    "\n",
    "def prediction_poly(X,X_SV,Y_SV,W0,alpha_SV):\n",
    "    \n",
    "    Y_hat = []\n",
    "    \n",
    "    for x in X:\n",
    "        \n",
    "        sum1 = 0\n",
    "        \n",
    "        for i in range(len(alpha_SV)):\n",
    "            \n",
    "            sum1 += alpha_SV[i]*Y_SV[i]*poly_similarity(X_SV[i],x)\n",
    "        \n",
    "        if sum1 + W0 > 0:\n",
    "            \n",
    "            #print sum1 + W0\n",
    "            \n",
    "                      \n",
    "            \n",
    "            Y_hat.append(1)\n",
    "        \n",
    "        else:\n",
    "            \n",
    "            Y_hat.append(-1)\n",
    "            \n",
    "    return np.array(Y_hat)   "
   ]
  },
  {
   "cell_type": "code",
   "execution_count": null,
   "metadata": {
    "collapsed": true
   },
   "outputs": [],
   "source": [
    "\n",
    "############## function to give the accuracy#######################\n",
    "\n",
    "def accuracy(Y,Y_hat):\n",
    "                \n",
    "    sum1 = sum([1 for i in range(len(Y)) if Y[i] == Y_hat[i]])\n",
    "    return (1.0*sum1/len(Y))*100"
   ]
  },
  {
   "cell_type": "code",
   "execution_count": null,
   "metadata": {
    "collapsed": false
   },
   "outputs": [],
   "source": [
    "############################# training for linear SVM #################################\n",
    "\n",
    "\n",
    "def training_linear(X,Y,e,c):\n",
    "    \n",
    "    P = (np.dot(X,np.transpose(X)) * np.dot(Y,np.transpose(Y)))\n",
    "      \n",
    "    q = np.zeros(shape=(X.shape[0],1))\n",
    "    q.fill(-1)\n",
    "    \n",
    "    G1 = np.zeros(shape=(X.shape[0],X.shape[0]))\n",
    "    np.fill_diagonal(G1,-1)\n",
    "    \n",
    "    G2 = np.zeros(shape=(X.shape[0],X.shape[0]))\n",
    "    np.fill_diagonal(G2,1)\n",
    "    \n",
    "    G = np.concatenate((G1,G2))\n",
    "    \n",
    "    H1 = np.zeros(shape = (X.shape[0],1))\n",
    "    H2 = np.full((X.shape[0],1),c)\n",
    "    H = np.concatenate((H1,H2))\n",
    "    \n",
    "    A = np.transpose(Y)\n",
    "    \n",
    "    b = 0\n",
    "    \n",
    "    soln = solvers.qp(matrix(P,tc = 'd'),\n",
    "                  matrix(q,tc = 'd'),\n",
    "                  matrix(G,tc = 'd'),\n",
    "                  matrix(H,tc = 'd'),\n",
    "                  matrix(A,tc = 'd'),\n",
    "                  matrix(b,tc='d'))\n",
    "    \n",
    "    alpha = (np.ravel(soln['x']))\n",
    "    alpha = np.reshape(np.array(alpha),(len(alpha),1))\n",
    "    \n",
    "          \n",
    "    W = alpha*Y*X\n",
    "    W = W.sum(axis = 0)\n",
    "\n",
    "\n",
    "    W0 = 0\n",
    "    n = 0\n",
    "    index = []\n",
    "    for i in range(X.shape[0]):\n",
    "        if alpha[i] > e:\n",
    "            n += 1\n",
    "            index.append(i)\n",
    "            W0 += Y[i] - np.dot(np.transpose(W),X[i])\n",
    "    W0 = 1. * W0/n\n",
    "    print alpha\n",
    "    print len(index)\n",
    "    \n",
    "    \n",
    "    \n",
    "    return (W,W0,index)\n",
    "    \n",
    "   \n",
    "    \n",
    "        \n",
    "        "
   ]
  },
  {
   "cell_type": "code",
   "execution_count": null,
   "metadata": {
    "collapsed": true
   },
   "outputs": [],
   "source": [
    "############################# training for gaussian SVM #################################\n",
    "\n",
    "def training_gaussian(X,Y,e,c):\n",
    "    \n",
    "    P = (gram_matrix_gaussian(X)) * (np.dot(Y,np.transpose(Y)))\n",
    "    #print P\n",
    "    q = np.zeros(shape=(X.shape[0],1))\n",
    "    q.fill(-1)\n",
    "    \n",
    "    G1 = np.zeros(shape=(X.shape[0],X.shape[0]))\n",
    "    np.fill_diagonal(G1,-1)\n",
    "    \n",
    "    G2 = np.zeros(shape=(X.shape[0],X.shape[0]))\n",
    "    np.fill_diagonal(G2,1)\n",
    "    \n",
    "    G = np.concatenate((G1,G2))\n",
    "    \n",
    "    H1 = np.zeros(shape = (X.shape[0],1))\n",
    "    H2 = np.full((X.shape[0],1),c)\n",
    "    H = np.concatenate((H1,H2))\n",
    "    \n",
    "    A = np.transpose(Y)\n",
    "    \n",
    "    b = 0\n",
    "    \n",
    "    soln = solvers.qp(matrix(P,tc = 'd'),\n",
    "                  matrix(q,tc = 'd'),\n",
    "                  matrix(G,tc = 'd'),\n",
    "                  matrix(H,tc = 'd'),\n",
    "                  matrix(A,tc = 'd'),\n",
    "                  matrix(b,tc='d'))\n",
    "    \n",
    "    alpha = (np.ravel(soln['x']))\n",
    "    #alpha = np.reshape(np.array(alpha),(len(alpha),1))\n",
    "    \n",
    "    #print alpha\n",
    "     \n",
    "    alpha_SV = alpha[alpha>e]\n",
    "    X_SV = X[alpha>e]\n",
    "    Y_SV = Y[alpha>e]\n",
    "    index = np.where(alpha>e)\n",
    "    \n",
    "    #print alpha_SV\n",
    "    #print X_SV\n",
    "    #print Y_SV\n",
    "    #print index[0]\n",
    "    \n",
    "    print len(index[0])\n",
    "    \n",
    "    W0 = 0\n",
    "    for i in range(len(alpha_SV)):\n",
    "        sum1 = 0\n",
    "        for j in range(len(alpha_SV)):\n",
    "            sum1 += alpha_SV[j]*Y_SV[j]*gaussian_similarity(X[j],X[i])\n",
    "        W0 += Y[i] - sum1\n",
    "    \n",
    "    W0 = 1. * W0/len(alpha_SV) \n",
    "    \n",
    "    #print W0\n",
    "    \n",
    "    \n",
    "    \n",
    "    return (alpha_SV,X_SV,Y_SV,W0,index[0])\n",
    "    \n",
    "    \n",
    "    "
   ]
  },
  {
   "cell_type": "code",
   "execution_count": null,
   "metadata": {
    "collapsed": true
   },
   "outputs": [],
   "source": [
    "############################# training for polynomail SVM #################################\n",
    "\n",
    "\n",
    "def training_poly(X,Y,e,c):\n",
    "    \n",
    "    P = (gram_matrix_poly(X)) * (np.dot(Y,np.transpose(Y)))\n",
    "    #print P\n",
    "    q = np.zeros(shape=(X.shape[0],1))\n",
    "    q.fill(-1)\n",
    "    \n",
    "    G1 = np.zeros(shape=(X.shape[0],X.shape[0]))\n",
    "    np.fill_diagonal(G1,-1)\n",
    "    \n",
    "    G2 = np.zeros(shape=(X.shape[0],X.shape[0]))\n",
    "    np.fill_diagonal(G2,1)\n",
    "    \n",
    "    G = np.concatenate((G1,G2))\n",
    "    \n",
    "    H1 = np.zeros(shape = (X.shape[0],1))\n",
    "    H2 = np.full((X.shape[0],1),c)\n",
    "    H = np.concatenate((H1,H2))\n",
    "    \n",
    "    A = np.transpose(Y)\n",
    "    \n",
    "    b = 0\n",
    "    \n",
    "    soln = solvers.qp(matrix(P,tc = 'd'),\n",
    "                  matrix(q,tc = 'd'),\n",
    "                  matrix(G,tc = 'd'),\n",
    "                  matrix(H,tc = 'd'),\n",
    "                  matrix(A,tc = 'd'),\n",
    "                  matrix(b,tc='d'))\n",
    "    \n",
    "    alpha = (np.ravel(soln['x']))\n",
    "    #alpha = np.reshape(np.array(alpha),(len(alpha),1))\n",
    "    \n",
    "    #print alpha\n",
    "     \n",
    "    alpha_SV = alpha[alpha>e]\n",
    "    X_SV = X[alpha>e]\n",
    "    Y_SV = Y[alpha>e]\n",
    "    index = np.where(alpha>e)\n",
    "    \n",
    "    #print alpha_SV\n",
    "    #print X_SV\n",
    "    #print Y_SV\n",
    "    #print index[0]\n",
    "    \n",
    "    \n",
    "    W0 = 0\n",
    "    for i in range(len(alpha_SV)):\n",
    "        sum1 = 0\n",
    "        for j in range(len(alpha_SV)):\n",
    "            sum1 += alpha_SV[j]*Y_SV[j]*poly_similarity(X[j],X[i])\n",
    "        W0 += Y[i] - sum1\n",
    "    \n",
    "    W0 = 1. * W0/len(alpha_SV) \n",
    "    \n",
    "    #print W0\n",
    "    \n",
    "    print len(index[0])\n",
    "    \n",
    "    return (alpha_SV,X_SV,Y_SV,W0,index[0])\n",
    "    \n",
    "    \n",
    "    "
   ]
  },
  {
   "cell_type": "code",
   "execution_count": null,
   "metadata": {
    "collapsed": false
   },
   "outputs": [],
   "source": [
    "########### gaussain similarity between two vectors#########################\n",
    "\n",
    "def gaussian_similarity(X,Y,sigma = 3.0):\n",
    "    #m = np.dot(np.transpose(X-Y),(X-Y))\n",
    "    return np.exp((-(np.linalg.norm(X-Y)**2))/(2*sigma**2))"
   ]
  },
  {
   "cell_type": "code",
   "execution_count": null,
   "metadata": {
    "collapsed": true
   },
   "outputs": [],
   "source": [
    "################# gram matrix with gaussain similarity######################\n",
    "\n",
    "def gram_matrix_gaussian(X):\n",
    "    m = len(X)\n",
    "    gram = np.zeros(shape=(m,m))\n",
    "    for i in range(m):\n",
    "        x = X[i]\n",
    "        for j in range(m):        \n",
    "            y = X[j]\n",
    "            gram[i][j] += gaussian_similarity(x,y)\n",
    "    \n",
    "    return gram"
   ]
  },
  {
   "cell_type": "code",
   "execution_count": null,
   "metadata": {
    "collapsed": true
   },
   "outputs": [],
   "source": [
    "########### poly similarity between two vectors#########################\n",
    "\n",
    "def poly_similarity(x,y,q=3):\n",
    "    return ((np.dot(np.transpose(x),y) + 1) ** 3)"
   ]
  },
  {
   "cell_type": "code",
   "execution_count": null,
   "metadata": {
    "collapsed": true
   },
   "outputs": [],
   "source": [
    "################# gram matrix with polynomail similarity######################\n",
    "\n",
    "def gram_matrix_poly(X):\n",
    "    m = len(X)\n",
    "    gram = np.zeros(shape=(m,m))\n",
    "    for i in range(m):\n",
    "        x = X[i]\n",
    "        for j in range(m):        \n",
    "            y = X[j]\n",
    "            gram[i][j] += poly_similarity(x,y)\n",
    "    \n",
    "    return gram"
   ]
  },
  {
   "cell_type": "code",
   "execution_count": null,
   "metadata": {
    "collapsed": false
   },
   "outputs": [],
   "source": [
    "################ Linear SVM###########\n",
    "def linear_SVM(X,Y,e,c):\n",
    "    \n",
    "    X_norm = norm(X.copy())\n",
    "    \n",
    "    #print X\n",
    "    \n",
    "    W,W0,index = training_linear(X_norm[:0.75 * len(X)],Y[:0.75 * len(X)],e,c)\n",
    "    if X.shape[1] == 2:\n",
    "        plotting_SVs(X[:0.75 * len(X)],Y[:0.75 * len(X)],index)\n",
    "    Y_hat = prediction_linear(X_norm[0.75 * len(X):],W,W0)\n",
    "    print accuracy(Y[0.75 * len(X):],Y_hat)"
   ]
  },
  {
   "cell_type": "code",
   "execution_count": null,
   "metadata": {
    "collapsed": false
   },
   "outputs": [],
   "source": [
    "###### Gausian Kernel SVM ###############\n",
    "def gaussian_SVM(X,Y,e,c):\n",
    "    X_norm = norm(X.copy())\n",
    "    alpha_SV,X_SV,Y_SV,W0,index = training_gaussian(X_norm[:0.75 * len(X)],Y[:0.75 * len(X)],e,c)\n",
    "    if X.shape[1] == 2:\n",
    "        plotting_SVs(X[:0.75 * len(X)],Y[:0.75 * len(X)],index)\n",
    "    Y_hat = prediction_gaussian(X_norm[0.75 * len(X):],X_SV,Y_SV,W0,alpha_SV)\n",
    "    print accuracy(Y[0.75 * len(X):],Y_hat)"
   ]
  },
  {
   "cell_type": "code",
   "execution_count": null,
   "metadata": {
    "collapsed": false,
    "scrolled": false
   },
   "outputs": [],
   "source": [
    "############ Polynmial kernel SVM######################\n",
    "def poly_SVM(X,Y,e,c):\n",
    "    \n",
    "    X_norm = norm(X.copy())\n",
    "    alpha_SV,X_SV,Y_SV,W0,index = training_poly(X_norm[:0.75 * len(X)],Y[:0.75 * len(X)],e,c)\n",
    "    if X.shape[1] == 2:\n",
    "        plotting_SVs(X[:0.75 * len(X)],Y[:0.75 * len(X)],index)\n",
    "    Y_hat = prediction_poly(X_norm[0.75 * len(X):],X_SV,Y_SV,W0,alpha_SV)\n",
    "    return accuracy(Y[0.75 * len(X):],Y_hat)\n",
    "    #print zip(Y_hat,Y[300:])\n",
    "\n"
   ]
  },
  {
   "cell_type": "code",
   "execution_count": null,
   "metadata": {
    "collapsed": false,
    "scrolled": true
   },
   "outputs": [],
   "source": [
    "######generating linearly seperable data###########\n",
    "'''\n",
    "X = []\n",
    "Y = []\n",
    "for i in range(200):\n",
    "    X.append([random.uniform(0,5),random.uniform(0,10)])\n",
    "    Y.append(1)\n",
    "    X.append([random.uniform(6,12),random.uniform(0,10)])\n",
    "    Y.append(-1)\n",
    "X = np.array(X)\n",
    "Y = np.reshape(np.array(Y),(len(Y),1))\n",
    "\n",
    "'''"
   ]
  },
  {
   "cell_type": "code",
   "execution_count": null,
   "metadata": {
    "collapsed": false
   },
   "outputs": [],
   "source": [
    "###pickeling the data for linearly separable data####\n",
    "'''\n",
    "\n",
    "linear_X = open(\"data/linear/X.pickle\",\"wb\")\n",
    "pickle.dump(X,linear_X)\n",
    "linear_X.close()\n",
    "\n",
    "linear_Y = open(\"data/linear/Y.pickle\",\"wb\")\n",
    "pickle.dump(Y,linear_Y)\n",
    "linear_Y.close()\n",
    "\n",
    "'''"
   ]
  },
  {
   "cell_type": "code",
   "execution_count": null,
   "metadata": {
    "collapsed": false
   },
   "outputs": [],
   "source": [
    "#####loading the linearly seperable data#####\n",
    "\n",
    "\n",
    "linear = open(\"data/linear/X.pickle\", \"rb\")\n",
    "X = pickle.load(linear)\n",
    "linear.close()\n",
    "\n",
    "linear = open(\"data/linear/Y.pickle\", \"rb\")\n",
    "Y = pickle.load(linear)\n",
    "linear.close()\n",
    "\n",
    "plot_data(X,Y)\n"
   ]
  },
  {
   "cell_type": "code",
   "execution_count": null,
   "metadata": {
    "collapsed": false,
    "scrolled": true
   },
   "outputs": [],
   "source": [
    "\n",
    "linear_SVM(X,Y,0.00000001,99999)##best accuracy at 0.1####\n",
    "\n",
    "#gaussian_SVM(X,Y,0.00000001,99999)##best accuracy at 0.00000001\n",
    "#poly_SVM(X,Y,0.0001,99999)##GIVES THE BEST ACCURACY##\n"
   ]
  },
  {
   "cell_type": "code",
   "execution_count": null,
   "metadata": {
    "collapsed": false,
    "scrolled": true
   },
   "outputs": [],
   "source": [
    "#######generating Non seperable data set###############\n",
    "'''\n",
    "X = []\n",
    "Y = []\n",
    "for i in range(200):\n",
    "    X.append([random.uniform(0,8),random.uniform(0,8)])\n",
    "    Y.append(1)\n",
    "    x = random.uniform(0,15)\n",
    "    if x > 9:\n",
    "        X.append([x,random.uniform(0,15)])\n",
    "    else:\n",
    "        X.append([x,random.uniform(9,15)])\n",
    "    Y.append(-1)\n",
    "X = np.array(X)\n",
    "Y = np.reshape(np.array(Y),(len(Y),1))\n",
    "plot_data(X,Y)\n",
    "\n",
    "\n",
    "'''\n"
   ]
  },
  {
   "cell_type": "code",
   "execution_count": null,
   "metadata": {
    "collapsed": true
   },
   "outputs": [],
   "source": [
    "'''\n",
    "non_linear_X = open(\"data/non-linear/X.pickle\",\"wb\")\n",
    "pickle.dump(X,non_linear_X)\n",
    "non_linear_X.close()\n",
    "\n",
    "non_linear_Y = open(\"data/non-linear/Y.pickle\",\"wb\")\n",
    "pickle.dump(Y,non_linear_Y)\n",
    "non_linear_Y.close()\n",
    "\n",
    "'''"
   ]
  },
  {
   "cell_type": "code",
   "execution_count": null,
   "metadata": {
    "collapsed": false
   },
   "outputs": [],
   "source": [
    "non_linear = open(\"data/non-linear/X.pickle\", \"rb\")\n",
    "X = pickle.load(non_linear)\n",
    "non_linear.close()\n",
    "\n",
    "non_linear = open(\"data/non-linear/Y.pickle\", \"rb\")\n",
    "Y = pickle.load(non_linear)\n",
    "non_linear.close()\n",
    "\n",
    "plot_data(X,Y)"
   ]
  },
  {
   "cell_type": "code",
   "execution_count": null,
   "metadata": {
    "collapsed": false,
    "scrolled": false
   },
   "outputs": [],
   "source": [
    "#linear_SVM(X,Y,0.1,1)\n",
    "#gaussian_SVM(X,Y,0.000001,999999999999999)\n",
    "#999999999999999\n",
    "poly_SVM(X,Y,0.000000001,0.1)"
   ]
  },
  {
   "cell_type": "code",
   "execution_count": null,
   "metadata": {
    "collapsed": false
   },
   "outputs": [],
   "source": [
    "###################### Externel Data set 1 ########################################\n",
    "\n",
    "url = \"http://archive.ics.uci.edu/ml/machine-learning-databases/00267/data_banknote_authentication.txt\"\n",
    "data = urllib2.urlopen(url)\n",
    "data = data.read()\n",
    "data = data.split(\"\\r\\n\")\n",
    "random.shuffle(data)\n",
    "\n",
    "X = []\n",
    "Y = []\n",
    "for i in data:\n",
    "    i = i.split(',')\n",
    "    Y.append(int(i[len(i)-1]))\n",
    "    i = map(float,i[0:len(i)-1])\n",
    "    #print type(i)\n",
    "    X.append(i)\n",
    "    \n",
    "X = np.array(X)\n",
    "cat = (set(Y))\n",
    "Y = np.reshape(np.array(Y),(len(Y),1))\n",
    "\n",
    "Y[Y == 0] = -1\n"
   ]
  },
  {
   "cell_type": "code",
   "execution_count": null,
   "metadata": {
    "collapsed": false,
    "scrolled": true
   },
   "outputs": [],
   "source": [
    "#gaussian_SVM(X,Y,0.0001,999)\n",
    "#poly_SVM(X,Y,0.1,i)\n"
   ]
  },
  {
   "cell_type": "code",
   "execution_count": null,
   "metadata": {
    "collapsed": true
   },
   "outputs": [],
   "source": [
    "##### External Data set 2 ##################################\n",
    "\n",
    "url = \"http://archive.ics.uci.edu/ml/machine-learning-databases/balance-scale/balance-scale.data\"\n",
    "data = urllib2.urlopen(url)\n",
    "data = data.read()\n",
    "data = data.split(\"\\n\")[:-1]\n",
    "random.shuffle(data)\n",
    "\n",
    "X = []\n",
    "Y = []\n",
    "for i in data:\n",
    "    \n",
    "    i = i.split(',')\n",
    "    \n",
    "    if (i[0] == 'L' or i[0] =='R'):\n",
    "        \n",
    "        if (i[0]=='L'):\n",
    "            Y.append(-1)\n",
    "        elif (i[0]=='R'):\n",
    "            Y.append(1)\n",
    "        i = map(float,i[1:len(i)])\n",
    "\n",
    "\n",
    "\n",
    "        X.append(i)\n",
    "X = np.array(X)\n",
    "Y = np.reshape(np.array(Y),(len(Y),1))\n"
   ]
  },
  {
   "cell_type": "code",
   "execution_count": null,
   "metadata": {
    "collapsed": false,
    "scrolled": true
   },
   "outputs": [],
   "source": [
    "#gaussian_SVM(X,Y,0.00000001,1000)\n",
    "#poly_SVM(X,Y,0.2,999999)"
   ]
  },
  {
   "cell_type": "code",
   "execution_count": null,
   "metadata": {
    "collapsed": true
   },
   "outputs": [],
   "source": [
    "############### when one of the class has substantailly more example###############\n",
    "\n",
    "####### this data has only 238 1's in 1000 examples, rest are labeled as -1#########\n",
    "\n",
    "url = \"http://archive.ics.uci.edu/ml/machine-learning-databases/00267/data_banknote_authentication.txt\"\n",
    "data = urllib2.urlopen(url)\n",
    "data = data.read()\n",
    "data = data.split(\"\\r\\n\")\n",
    "\n",
    "data=data[:1000]\n",
    "\n",
    "random.shuffle(data)\n",
    "\n",
    "X = []\n",
    "Y = []\n",
    "for i in data:\n",
    "    i = i.split(',')\n",
    "    Y.append(int(i[len(i)-1]))\n",
    "    i = map(float,i[0:len(i)-1])\n",
    "    #print type(i)\n",
    "    X.append(i)\n",
    "    \n",
    "X = np.array(X)\n",
    "cat = (set(Y))\n",
    "Y = np.reshape(np.array(Y),(len(Y),1))\n",
    "Y[Y == 0] = -1"
   ]
  },
  {
   "cell_type": "code",
   "execution_count": null,
   "metadata": {
    "collapsed": true
   },
   "outputs": [],
   "source": [
    "#gaussian_SVM(X,Y,0.00000001,1000)\n",
    "#poly_SVM(X,Y,0.2,999999)"
   ]
  }
 ],
 "metadata": {
  "kernelspec": {
   "display_name": "Python 2",
   "language": "python",
   "name": "python2"
  },
  "language_info": {
   "codemirror_mode": {
    "name": "ipython",
    "version": 2
   },
   "file_extension": ".py",
   "mimetype": "text/x-python",
   "name": "python",
   "nbconvert_exporter": "python",
   "pygments_lexer": "ipython2",
   "version": "2.7.11"
  }
 },
 "nbformat": 4,
 "nbformat_minor": 0
}
